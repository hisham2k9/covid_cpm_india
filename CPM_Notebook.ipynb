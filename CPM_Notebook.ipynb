{
 "cells": [
  {
   "cell_type": "markdown",
   "metadata": {},
   "source": [
    "# Covid-19 Daily cases per Million in Indian States\n",
    "\n",
    "## Are we flattening the curve? You be the judge!\n",
    "\n",
    "The notebook gathers population data from wikipedia, and daily cases from an API from Covid19india.org. This notebook visualizes the daily reported cases per million population over days since number of cases reported per million crossed 1. "
   ]
  },
  {
   "cell_type": "markdown",
   "metadata": {},
   "source": [
    "### Importing Libraries"
   ]
  },
  {
   "cell_type": "code",
   "execution_count": 148,
   "metadata": {},
   "outputs": [],
   "source": [
    "from pandas import Series #for data manipulation\n",
    "import datetime #for time-related manipulation\n",
    "import pandas as pd #load dataset into dataframe\n",
    "import requests #to make api request\n",
    "import matplotlib.pyplot as plt #to make visualization\n",
    "import numpy as np #for analysis\n",
    "import random #for testing data on random if cleaning came correct"
   ]
  },
  {
   "cell_type": "markdown",
   "metadata": {},
   "source": [
    "### Getting Population table from wikipedia"
   ]
  },
  {
   "cell_type": "code",
   "execution_count": 149,
   "metadata": {},
   "outputs": [],
   "source": [
    "#wikipedia url and transfering to pandas dataframe\n",
    "url = \"https://en.wikipedia.org/wiki/List_of_states_and_union_territories_of_India_by_population\"\n",
    "table = pd.read_html(url)[1]"
   ]
  },
  {
   "cell_type": "code",
   "execution_count": 150,
   "metadata": {},
   "outputs": [
    {
     "data": {
      "text/html": [
       "<div>\n",
       "<style scoped>\n",
       "    .dataframe tbody tr th:only-of-type {\n",
       "        vertical-align: middle;\n",
       "    }\n",
       "\n",
       "    .dataframe tbody tr th {\n",
       "        vertical-align: top;\n",
       "    }\n",
       "\n",
       "    .dataframe thead th {\n",
       "        text-align: right;\n",
       "    }\n",
       "</style>\n",
       "<table border=\"1\" class=\"dataframe\">\n",
       "  <thead>\n",
       "    <tr style=\"text-align: right;\">\n",
       "      <th></th>\n",
       "      <th>Rank</th>\n",
       "      <th>State or union territory</th>\n",
       "      <th>Population</th>\n",
       "      <th>Population (%)</th>\n",
       "      <th>Decadal growth(2001–2011)</th>\n",
       "      <th>Rural population</th>\n",
       "      <th>Percent rural</th>\n",
       "      <th>Urban population</th>\n",
       "      <th>Percent urban</th>\n",
       "      <th>Area[16]</th>\n",
       "      <th>Density[a]</th>\n",
       "      <th>Sex ratio</th>\n",
       "    </tr>\n",
       "  </thead>\n",
       "  <tbody>\n",
       "    <tr>\n",
       "      <th>0</th>\n",
       "      <td>1</td>\n",
       "      <td>Uttar Pradesh</td>\n",
       "      <td>199812341</td>\n",
       "      <td>NaN</td>\n",
       "      <td>20.2%</td>\n",
       "      <td>155317278</td>\n",
       "      <td>NaN</td>\n",
       "      <td>44495063</td>\n",
       "      <td>NaN</td>\n",
       "      <td>240,928 km2 (93,023 sq mi)</td>\n",
       "      <td>828/km2 (2,140/sq mi)</td>\n",
       "      <td>912</td>\n",
       "    </tr>\n",
       "    <tr>\n",
       "      <th>1</th>\n",
       "      <td>2</td>\n",
       "      <td>Maharashtra</td>\n",
       "      <td>112374333</td>\n",
       "      <td>NaN</td>\n",
       "      <td>20.0%</td>\n",
       "      <td>61556074</td>\n",
       "      <td>NaN</td>\n",
       "      <td>50818259</td>\n",
       "      <td>NaN</td>\n",
       "      <td>307,713 km2 (118,809 sq mi)</td>\n",
       "      <td>365/km2 (950/sq mi)</td>\n",
       "      <td>929</td>\n",
       "    </tr>\n",
       "  </tbody>\n",
       "</table>\n",
       "</div>"
      ],
      "text/plain": [
       "  Rank State or union territory Population Population (%)  \\\n",
       "0    1            Uttar Pradesh  199812341            NaN   \n",
       "1    2              Maharashtra  112374333            NaN   \n",
       "\n",
       "  Decadal growth(2001–2011)  Rural population Percent rural  Urban population  \\\n",
       "0                     20.2%         155317278           NaN          44495063   \n",
       "1                     20.0%          61556074           NaN          50818259   \n",
       "\n",
       "  Percent urban                     Area[16]             Density[a]  Sex ratio  \n",
       "0           NaN   240,928 km2 (93,023 sq mi)  828/km2 (2,140/sq mi)        912  \n",
       "1           NaN  307,713 km2 (118,809 sq mi)    365/km2 (950/sq mi)        929  "
      ]
     },
     "execution_count": 150,
     "metadata": {},
     "output_type": "execute_result"
    }
   ],
   "source": [
    "table.head(2)"
   ]
  },
  {
   "cell_type": "code",
   "execution_count": 151,
   "metadata": {},
   "outputs": [
    {
     "data": {
      "text/html": [
       "<div>\n",
       "<style scoped>\n",
       "    .dataframe tbody tr th:only-of-type {\n",
       "        vertical-align: middle;\n",
       "    }\n",
       "\n",
       "    .dataframe tbody tr th {\n",
       "        vertical-align: top;\n",
       "    }\n",
       "\n",
       "    .dataframe thead th {\n",
       "        text-align: right;\n",
       "    }\n",
       "</style>\n",
       "<table border=\"1\" class=\"dataframe\">\n",
       "  <thead>\n",
       "    <tr style=\"text-align: right;\">\n",
       "      <th></th>\n",
       "      <th>Rank</th>\n",
       "      <th>state_ut</th>\n",
       "      <th>popn</th>\n",
       "      <th>Population (%)</th>\n",
       "      <th>Decadal growth(2001–2011)</th>\n",
       "      <th>Rural population</th>\n",
       "      <th>Percent rural</th>\n",
       "      <th>Urban population</th>\n",
       "      <th>Percent urban</th>\n",
       "      <th>Area[16]</th>\n",
       "      <th>Density[a]</th>\n",
       "      <th>Sex ratio</th>\n",
       "    </tr>\n",
       "  </thead>\n",
       "  <tbody>\n",
       "    <tr>\n",
       "      <th>0</th>\n",
       "      <td>1</td>\n",
       "      <td>Uttar Pradesh</td>\n",
       "      <td>199812341</td>\n",
       "      <td>NaN</td>\n",
       "      <td>20.2%</td>\n",
       "      <td>155317278</td>\n",
       "      <td>NaN</td>\n",
       "      <td>44495063</td>\n",
       "      <td>NaN</td>\n",
       "      <td>240,928 km2 (93,023 sq mi)</td>\n",
       "      <td>828/km2 (2,140/sq mi)</td>\n",
       "      <td>912</td>\n",
       "    </tr>\n",
       "    <tr>\n",
       "      <th>1</th>\n",
       "      <td>2</td>\n",
       "      <td>Maharashtra</td>\n",
       "      <td>112374333</td>\n",
       "      <td>NaN</td>\n",
       "      <td>20.0%</td>\n",
       "      <td>61556074</td>\n",
       "      <td>NaN</td>\n",
       "      <td>50818259</td>\n",
       "      <td>NaN</td>\n",
       "      <td>307,713 km2 (118,809 sq mi)</td>\n",
       "      <td>365/km2 (950/sq mi)</td>\n",
       "      <td>929</td>\n",
       "    </tr>\n",
       "  </tbody>\n",
       "</table>\n",
       "</div>"
      ],
      "text/plain": [
       "  Rank       state_ut       popn Population (%) Decadal growth(2001–2011)  \\\n",
       "0    1  Uttar Pradesh  199812341            NaN                     20.2%   \n",
       "1    2    Maharashtra  112374333            NaN                     20.0%   \n",
       "\n",
       "   Rural population Percent rural  Urban population Percent urban  \\\n",
       "0         155317278           NaN          44495063           NaN   \n",
       "1          61556074           NaN          50818259           NaN   \n",
       "\n",
       "                      Area[16]             Density[a]  Sex ratio  \n",
       "0   240,928 km2 (93,023 sq mi)  828/km2 (2,140/sq mi)        912  \n",
       "1  307,713 km2 (118,809 sq mi)    365/km2 (950/sq mi)        929  "
      ]
     },
     "execution_count": 151,
     "metadata": {},
     "output_type": "execute_result"
    }
   ],
   "source": [
    "#lets rename the state column to 'state_ut' and 'Population' to avoid spaces and caps.\n",
    "table=table.rename(columns={\"State or union territory\": \"state_ut\", \"Population\" :'popn'})\n",
    "table.head(2)\n"
   ]
  },
  {
   "cell_type": "code",
   "execution_count": 152,
   "metadata": {},
   "outputs": [
    {
     "name": "stdout",
     "output_type": "stream",
     "text": [
      "Population datatype object\n"
     ]
    }
   ],
   "source": [
    "#not all columns are clean, but we need population column to be clean, let check that.\n",
    "print('Population datatype',table['popn'].dtypes)"
   ]
  },
  {
   "cell_type": "code",
   "execution_count": 153,
   "metadata": {},
   "outputs": [
    {
     "name": "stdout",
     "output_type": "stream",
     "text": [
      "['199812341' '112374333' '104099452' '91276115' '72626809' '72147030'\n",
      " '68548437' '61095297' '60439692' '49,577,103[b]' '41974219' '35003674'\n",
      " '33406061' '32988134' '31205576' '27743338' '25545198' '25351462'\n",
      " '10086292' '6864602' '3673917' '2966889' '2570390' '1978502' '1458545'\n",
      " '1383727' '1097206' '610577' '16787941' '12267032' '1247953' '1055450'\n",
      " '585764' '380581' '274000' '64473' '1210569573']\n"
     ]
    }
   ],
   "source": [
    "#changing population datatype to type int\n",
    "print(table['popn'].values)"
   ]
  },
  {
   "cell_type": "code",
   "execution_count": 154,
   "metadata": {},
   "outputs": [
    {
     "data": {
      "text/plain": [
       "array([ 199812341,  112374333,  104099452,   91276115,   72626809,\n",
       "         72147030,   68548437,   61095297,   60439692,   49577103,\n",
       "         41974219,   35003674,   33406061,   32988134,   31205576,\n",
       "         27743338,   25545198,   25351462,   10086292,    6864602,\n",
       "          3673917,    2966889,    2570390,    1978502,    1458545,\n",
       "          1383727,    1097206,     610577,   16787941,   12267032,\n",
       "          1247953,    1055450,     585764,     380581,     274000,\n",
       "            64473, 1210569573])"
      ]
     },
     "execution_count": 154,
     "metadata": {},
     "output_type": "execute_result"
    }
   ],
   "source": [
    "#we have few celss that are not int, we need to change that\n",
    "table['popn']=table['popn'].str.rstrip('[b]')\n",
    "table['popn']=table['popn'].str.replace(',', '').astype('int')\n",
    "table['popn'].values\n"
   ]
  },
  {
   "cell_type": "code",
   "execution_count": 155,
   "metadata": {},
   "outputs": [],
   "source": [
    "#lets delete the columns except state and population\n",
    "table=table[['state_ut','popn']]\n",
    "#All good, lets save save the population table as csv\n",
    "table.to_csv('popn_table.csv', index=None)"
   ]
  },
  {
   "cell_type": "markdown",
   "metadata": {},
   "source": [
    "### Getting covid timeseries from api request"
   ]
  },
  {
   "cell_type": "code",
   "execution_count": 156,
   "metadata": {},
   "outputs": [
    {
     "name": "stdout",
     "output_type": "stream",
     "text": [
      "JSON Format and sample of contents\n",
      "Key:  AN\n",
      "Values: \n",
      "2020-03-26\n",
      "{'delta': {'confirmed': 1}, 'total': {'confirmed': 1}}\n"
     ]
    }
   ],
   "source": [
    "#this function takes in the timeseries data api from covid19india.org\n",
    "def _india_timeseries():\n",
    "    url = 'https://api.covid19india.org/v3/timeseries.json'\n",
    "    r = requests.get(url)\n",
    "    try:\n",
    "        r.raise_for_status()\n",
    "        return r.json()\n",
    "    except:\n",
    "        return None\n",
    "json=_india_timeseries()\n",
    "#lets look at json data:\n",
    "print(\"JSON Format and sample of contents\")\n",
    "for key,value, in json.items():\n",
    "    print('Key: ', key )\n",
    "    print(\"Values: \")\n",
    "    for k,v in value.items():\n",
    "        print(k)\n",
    "        print(v)\n",
    "        break\n",
    "    break\n",
    "\n",
    "    \n",
    "    "
   ]
  },
  {
   "cell_type": "code",
   "execution_count": 157,
   "metadata": {},
   "outputs": [],
   "source": [
    "#THe previous api has state names as state codes,\n",
    "#we don't have state codes, so we take another api from the same\n",
    "#provider which has both statecode and state name\n",
    "#get the statecode and statename and make a dictionary\n",
    "def get_statecodes():\n",
    "    url='https://api.covid19india.org/data.json'\n",
    "    r=requests.get(url)\n",
    "    try:\n",
    "        r.raise_for_status()\n",
    "        return r.json()\n",
    "    except:\n",
    "        return None\n",
    "\n",
    "code_json=get_statecodes()"
   ]
  },
  {
   "cell_type": "code",
   "execution_count": 158,
   "metadata": {},
   "outputs": [
    {
     "name": "stdout",
     "output_type": "stream",
     "text": [
      "JSON Format and sample of contents\n",
      "Key:  cases_time_series\n",
      "Value (Sample data): \n",
      "{'dailyconfirmed': '1', 'dailydeceased': '0', 'dailyrecovered': '0', 'date': '30 January ', 'totalconfirmed': '1', 'totaldeceased': '0', 'totalrecovered': '0'}\n",
      "Key:  statewise\n",
      "Value (Sample data): \n",
      "{'active': '210635', 'confirmed': '548817', 'deaths': '16485', 'deltaconfirmed': '19230', 'deltadeaths': '382', 'deltarecovered': '11495', 'lastupdatedtime': '28/06/2020 21:43:13', 'migratedother': '56', 'recovered': '321641', 'state': 'Total', 'statecode': 'TT', 'statenotes': ''}\n",
      "Key:  tested\n",
      "Value (Sample data): \n",
      "{'individualstestedperconfirmedcase': '75.64', 'positivecasesfromsamplesreported': '', 'samplereportedtoday': '', 'source': 'Press_Release_ICMR_13March2020.pdf', 'source1': '', 'testedasof': '13/03/2020', 'testpositivityrate': '1.20%', 'testsconductedbyprivatelabs': '', 'testsperconfirmedcase': '83.33', 'testspermillion': '5', 'totalindividualstested': '5900', 'totalpositivecases': '78', 'totalsamplestested': '6500', 'updatetimestamp': '13/03/2020 00:00:00'}\n",
      "\n",
      "JSON Format of statewise data\n",
      "Key:  active\n",
      "Key:  confirmed\n",
      "Key:  deaths\n",
      "Key:  deltaconfirmed\n",
      "Key:  deltadeaths\n",
      "Key:  deltarecovered\n",
      "Key:  lastupdatedtime\n",
      "Key:  migratedother\n",
      "Key:  recovered\n",
      "Key:  state\n",
      "Key:  statecode\n",
      "Key:  statenotes\n"
     ]
    }
   ],
   "source": [
    "#lets look at code_json data:\n",
    "print(\"JSON Format and sample of contents\")\n",
    "for key,value, in code_json.items():\n",
    "    print('Key: ', key )\n",
    "    for item in value[0]:\n",
    "        print('Value (Sample data): ')\n",
    "        print(value[0])\n",
    "        break\n",
    "\n",
    "print(\"\\nJSON Format of statewise data\")\n",
    "for key, value in code_json['statewise'][1].items():\n",
    "    print('Key: ',key)"
   ]
  },
  {
   "cell_type": "code",
   "execution_count": 159,
   "metadata": {},
   "outputs": [
    {
     "name": "stdout",
     "output_type": "stream",
     "text": [
      "{'TT': 'Total', 'MH': 'Maharashtra', 'TN': 'Tamil Nadu', 'DL': 'Delhi', 'GJ': 'Gujarat', 'UP': 'Uttar Pradesh', 'RJ': 'Rajasthan', 'WB': 'West Bengal', 'MP': 'Madhya Pradesh', 'HR': 'Haryana', 'UN': 'State Unassigned', 'KA': 'Karnataka', 'AP': 'Andhra Pradesh', 'BR': 'Bihar', 'TG': 'Telangana', 'JK': 'Jammu and Kashmir', 'AS': 'Assam', 'OR': 'Odisha', 'PB': 'Punjab', 'KL': 'Kerala', 'UT': 'Uttarakhand', 'CT': 'Chhattisgarh', 'JH': 'Jharkhand', 'TR': 'Tripura', 'LA': 'Ladakh', 'GA': 'Goa', 'HP': 'Himachal Pradesh', 'MN': 'Manipur', 'CH': 'Chandigarh', 'PY': 'Puducherry', 'NL': 'Nagaland', 'MZ': 'Mizoram', 'AR': 'Arunachal Pradesh', 'SK': 'Sikkim', 'DN': 'Dadra and Nagar Haveli and Daman and Diu', 'AN': 'Andaman and Nicobar Islands', 'ML': 'Meghalaya', 'LD': 'Lakshadweep'}\n"
     ]
    }
   ],
   "source": [
    "#lets create a dictionary of state codes to state names so that it is alligned with population table\n",
    "#gets easier to manipulate, as you will see\n",
    "statedic={}\n",
    "for k in code_json['statewise']:\n",
    "    statedic[k['statecode']]=k['state']\n",
    "    #print(k['state'],k['statecode'])\n",
    "print(statedic)"
   ]
  },
  {
   "cell_type": "code",
   "execution_count": 160,
   "metadata": {},
   "outputs": [
    {
     "data": {
      "text/html": [
       "<div>\n",
       "<style scoped>\n",
       "    .dataframe tbody tr th:only-of-type {\n",
       "        vertical-align: middle;\n",
       "    }\n",
       "\n",
       "    .dataframe tbody tr th {\n",
       "        vertical-align: top;\n",
       "    }\n",
       "\n",
       "    .dataframe thead th {\n",
       "        text-align: right;\n",
       "    }\n",
       "</style>\n",
       "<table border=\"1\" class=\"dataframe\">\n",
       "  <thead>\n",
       "    <tr style=\"text-align: right;\">\n",
       "      <th></th>\n",
       "      <th>statecode</th>\n",
       "      <th>date</th>\n",
       "      <th>state</th>\n",
       "      <th>delta</th>\n",
       "      <th>confirmed</th>\n",
       "      <th>population</th>\n",
       "      <th>cases_per_mil</th>\n",
       "    </tr>\n",
       "  </thead>\n",
       "  <tbody>\n",
       "    <tr>\n",
       "      <th>0</th>\n",
       "      <td>AN</td>\n",
       "      <td>2020-03-26</td>\n",
       "      <td>Andaman and Nicobar Islands</td>\n",
       "      <td>1</td>\n",
       "      <td>1</td>\n",
       "      <td>380581</td>\n",
       "      <td>2.627562</td>\n",
       "    </tr>\n",
       "    <tr>\n",
       "      <th>1</th>\n",
       "      <td>AN</td>\n",
       "      <td>2020-03-27</td>\n",
       "      <td>Andaman and Nicobar Islands</td>\n",
       "      <td>5</td>\n",
       "      <td>6</td>\n",
       "      <td>380581</td>\n",
       "      <td>13.137808</td>\n",
       "    </tr>\n",
       "    <tr>\n",
       "      <th>2</th>\n",
       "      <td>AN</td>\n",
       "      <td>2020-03-28</td>\n",
       "      <td>Andaman and Nicobar Islands</td>\n",
       "      <td>3</td>\n",
       "      <td>9</td>\n",
       "      <td>380581</td>\n",
       "      <td>7.882685</td>\n",
       "    </tr>\n",
       "    <tr>\n",
       "      <th>3</th>\n",
       "      <td>AN</td>\n",
       "      <td>2020-03-29</td>\n",
       "      <td>Andaman and Nicobar Islands</td>\n",
       "      <td>0</td>\n",
       "      <td>9</td>\n",
       "      <td>380581</td>\n",
       "      <td>0.000000</td>\n",
       "    </tr>\n",
       "    <tr>\n",
       "      <th>4</th>\n",
       "      <td>AN</td>\n",
       "      <td>2020-03-30</td>\n",
       "      <td>Andaman and Nicobar Islands</td>\n",
       "      <td>1</td>\n",
       "      <td>10</td>\n",
       "      <td>380581</td>\n",
       "      <td>2.627562</td>\n",
       "    </tr>\n",
       "  </tbody>\n",
       "</table>\n",
       "</div>"
      ],
      "text/plain": [
       "  statecode        date                        state delta confirmed  \\\n",
       "0        AN  2020-03-26  Andaman and Nicobar Islands     1         1   \n",
       "1        AN  2020-03-27  Andaman and Nicobar Islands     5         6   \n",
       "2        AN  2020-03-28  Andaman and Nicobar Islands     3         9   \n",
       "3        AN  2020-03-29  Andaman and Nicobar Islands     0         9   \n",
       "4        AN  2020-03-30  Andaman and Nicobar Islands     1        10   \n",
       "\n",
       "  population  cases_per_mil  \n",
       "0     380581       2.627562  \n",
       "1     380581      13.137808  \n",
       "2     380581       7.882685  \n",
       "3     380581       0.000000  \n",
       "4     380581       2.627562  "
      ]
     },
     "execution_count": 160,
     "metadata": {},
     "output_type": "execute_result"
    }
   ],
   "source": [
    "#creating a df with required fields for analysis\n",
    "df=pd.DataFrame(columns=['statecode','date','state','delta', 'confirmed', 'population', 'cases_per_mil'])\n",
    "#Reading back the tables csv we just saved earlier\n",
    "statedf=pd.read_csv('popn_table.csv')\n",
    "#setting index as statenames for analysis\n",
    "statedf=statedf.set_index(statedf['state_ut'])\n",
    "\n",
    "for k,v in json.items():\n",
    "    delta=0\n",
    "    for date, value in v.items():   \n",
    "        try:\n",
    "            #print(value['total'])\n",
    "            popn=statedf.loc[statedic[k]][1]\n",
    "            confirmed=value['total']['confirmed']\n",
    "            #case_mil=int((confirmed/popn)*1000000)\n",
    "            delta=confirmed-delta\n",
    "            case_mil=(delta/popn)*1000000\n",
    "            series=pd.Series([k,date,statedic[k],delta,confirmed,\n",
    "                              popn,case_mil],index=df.columns)\n",
    "            #print(series)\n",
    "            df = df.append(series, ignore_index=True)\n",
    "            delta=confirmed\n",
    "        except:\n",
    "            #exception occurs since starting date for diff state is diff\n",
    "            pass\n",
    "            \n",
    "\n",
    "        \n",
    "    #break\n",
    "    \n",
    "#print(json['statewise'][2])\n",
    "df.head(5)\n"
   ]
  },
  {
   "cell_type": "code",
   "execution_count": 161,
   "metadata": {},
   "outputs": [
    {
     "name": "stdout",
     "output_type": "stream",
     "text": [
      "Earliest Date: 2020-01-30\n",
      "Not include for state:  Total\n",
      "Not include for state:  State Unassigned\n",
      "Not include for state:  Manipur\n",
      "Not include for state:  Lakshadweep\n"
     ]
    }
   ],
   "source": [
    "#starting dates for different states are different, earliest is 30th Jan 2020 for Kerala,\n",
    "#lets make it uniform by adding rows with zero to dates that does'nt exit in df atm\n",
    "df=df.sort_values(['state','date'],ascending=True)\n",
    "mindate=df['date'].min()\n",
    "mindate=datetime.datetime.strptime(mindate, '%Y-%m-%d').date()\n",
    "print(\"Earliest Date:\",mindate)\n",
    "#print(df.head(10))\n",
    "for statecode, state in statedic.items():\n",
    "    try:\n",
    "        statemin=df['date'][df['state']==state].min()\n",
    "        statemin=datetime.datetime.strptime(statemin, '%Y-%m-%d').date()\n",
    "        while mindate != statemin:\n",
    "            newdate=statemin-datetime.timedelta(days=1)\n",
    "            newdate=newdate.strftime('%Y-%m-%d')\n",
    "            series=pd.Series([statecode,newdate,state,0,0,popn,0],index=df.columns)\n",
    "            df=df.append(series, ignore_index=True)\n",
    "            statemin=df['date'][df['state']==state].min()\n",
    "            statemin=datetime.datetime.strptime(statemin, '%Y-%m-%d').date()\n",
    "    except:\n",
    "        print('Not include for state: ', state)\n",
    "    "
   ]
  },
  {
   "cell_type": "code",
   "execution_count": 162,
   "metadata": {},
   "outputs": [
    {
     "data": {
      "text/html": [
       "<div>\n",
       "<style scoped>\n",
       "    .dataframe tbody tr th:only-of-type {\n",
       "        vertical-align: middle;\n",
       "    }\n",
       "\n",
       "    .dataframe tbody tr th {\n",
       "        vertical-align: top;\n",
       "    }\n",
       "\n",
       "    .dataframe thead th {\n",
       "        text-align: right;\n",
       "    }\n",
       "</style>\n",
       "<table border=\"1\" class=\"dataframe\">\n",
       "  <thead>\n",
       "    <tr style=\"text-align: right;\">\n",
       "      <th></th>\n",
       "      <th>statecode</th>\n",
       "      <th>date</th>\n",
       "      <th>state</th>\n",
       "      <th>delta</th>\n",
       "      <th>confirmed</th>\n",
       "      <th>population</th>\n",
       "      <th>cases_per_mil</th>\n",
       "    </tr>\n",
       "  </thead>\n",
       "  <tbody>\n",
       "    <tr>\n",
       "      <th>0</th>\n",
       "      <td>AN</td>\n",
       "      <td>2020-03-26</td>\n",
       "      <td>Andaman and Nicobar Islands</td>\n",
       "      <td>1</td>\n",
       "      <td>1</td>\n",
       "      <td>380581</td>\n",
       "      <td>2.627562</td>\n",
       "    </tr>\n",
       "    <tr>\n",
       "      <th>1</th>\n",
       "      <td>AN</td>\n",
       "      <td>2020-03-27</td>\n",
       "      <td>Andaman and Nicobar Islands</td>\n",
       "      <td>5</td>\n",
       "      <td>6</td>\n",
       "      <td>380581</td>\n",
       "      <td>13.137808</td>\n",
       "    </tr>\n",
       "    <tr>\n",
       "      <th>2</th>\n",
       "      <td>AN</td>\n",
       "      <td>2020-03-28</td>\n",
       "      <td>Andaman and Nicobar Islands</td>\n",
       "      <td>3</td>\n",
       "      <td>9</td>\n",
       "      <td>380581</td>\n",
       "      <td>7.882685</td>\n",
       "    </tr>\n",
       "  </tbody>\n",
       "</table>\n",
       "</div>"
      ],
      "text/plain": [
       "  statecode        date                        state delta confirmed  \\\n",
       "0        AN  2020-03-26  Andaman and Nicobar Islands     1         1   \n",
       "1        AN  2020-03-27  Andaman and Nicobar Islands     5         6   \n",
       "2        AN  2020-03-28  Andaman and Nicobar Islands     3         9   \n",
       "\n",
       "  population  cases_per_mil  \n",
       "0     380581       2.627562  \n",
       "1     380581      13.137808  \n",
       "2     380581       7.882685  "
      ]
     },
     "execution_count": 162,
     "metadata": {},
     "output_type": "execute_result"
    }
   ],
   "source": [
    "#lets see the df\n",
    "df.head(3)"
   ]
  },
  {
   "cell_type": "code",
   "execution_count": 163,
   "metadata": {},
   "outputs": [
    {
     "name": "stdout",
     "output_type": "stream",
     "text": [
      "Min date for  Assam: 2020-01-30\n",
      "Min date for  Ladakh: 2020-01-30\n",
      "Min date for  Mizoram: 2020-01-30\n"
     ]
    }
   ],
   "source": [
    "#lets see the min date at random\n",
    "df=df.set_index(df['state'])\n",
    "for i in range(3):\n",
    "    index=random.choice(df.index.values.tolist())\n",
    "    print('Min date for ',index, end=': ')\n",
    "    print(df['date'].loc[index].min())"
   ]
  },
  {
   "cell_type": "code",
   "execution_count": 164,
   "metadata": {},
   "outputs": [],
   "source": [
    "#All are min at 2020-01-30, we can save csv and we are good to go\n",
    "df.to_csv('cleaned_data.csv',index=False)"
   ]
  },
  {
   "cell_type": "markdown",
   "metadata": {},
   "source": [
    "### Small Analysis"
   ]
  },
  {
   "cell_type": "markdown",
   "metadata": {},
   "source": [
    "Lets go with pareto principle, and choose the top 20% of states and/or UT with most number of confirmed cases. 20% of 37 states and UT would be 7. Lets go with 7 States/UT for plotting."
   ]
  },
  {
   "cell_type": "code",
   "execution_count": 165,
   "metadata": {},
   "outputs": [
    {
     "name": "stdout",
     "output_type": "stream",
     "text": [
      "Top 7 states: \n",
      " ['Maharashtra' 'Delhi' 'Tamil Nadu' 'Gujarat' 'Uttar Pradesh'\n",
      " 'West Bengal' 'Rajasthan']\n"
     ]
    }
   ],
   "source": [
    "#lets find out top 7 states in terms of confirmed cases\n",
    "df=df.sort_values('confirmed',ascending=False)\n",
    "rest=df['state'].unique()[7:]\n",
    "top=df['state'].unique()[:7]\n",
    "print('Top 7 states: \\n', top)"
   ]
  },
  {
   "cell_type": "code",
   "execution_count": 166,
   "metadata": {},
   "outputs": [
    {
     "name": "stdout",
     "output_type": "stream",
     "text": [
      "We are all good, we go a list same size as df: 5105\n"
     ]
    },
    {
     "data": {
      "text/html": [
       "<div>\n",
       "<style scoped>\n",
       "    .dataframe tbody tr th:only-of-type {\n",
       "        vertical-align: middle;\n",
       "    }\n",
       "\n",
       "    .dataframe tbody tr th {\n",
       "        vertical-align: top;\n",
       "    }\n",
       "\n",
       "    .dataframe thead th {\n",
       "        text-align: right;\n",
       "    }\n",
       "</style>\n",
       "<table border=\"1\" class=\"dataframe\">\n",
       "  <thead>\n",
       "    <tr style=\"text-align: right;\">\n",
       "      <th></th>\n",
       "      <th>statecode</th>\n",
       "      <th>date</th>\n",
       "      <th>state</th>\n",
       "      <th>delta</th>\n",
       "      <th>confirmed</th>\n",
       "      <th>population</th>\n",
       "      <th>cases_per_mil</th>\n",
       "      <th>cpm_smoothened</th>\n",
       "    </tr>\n",
       "  </thead>\n",
       "  <tbody>\n",
       "    <tr>\n",
       "      <th>4011</th>\n",
       "      <td>AN</td>\n",
       "      <td>2020-01-30</td>\n",
       "      <td>Andaman and Nicobar Islands</td>\n",
       "      <td>0</td>\n",
       "      <td>0</td>\n",
       "      <td>91276115</td>\n",
       "      <td>0.0</td>\n",
       "      <td>0.0</td>\n",
       "    </tr>\n",
       "    <tr>\n",
       "      <th>4012</th>\n",
       "      <td>AN</td>\n",
       "      <td>2020-01-31</td>\n",
       "      <td>Andaman and Nicobar Islands</td>\n",
       "      <td>0</td>\n",
       "      <td>0</td>\n",
       "      <td>91276115</td>\n",
       "      <td>0.0</td>\n",
       "      <td>0.0</td>\n",
       "    </tr>\n",
       "    <tr>\n",
       "      <th>4013</th>\n",
       "      <td>AN</td>\n",
       "      <td>2020-02-01</td>\n",
       "      <td>Andaman and Nicobar Islands</td>\n",
       "      <td>0</td>\n",
       "      <td>0</td>\n",
       "      <td>91276115</td>\n",
       "      <td>0.0</td>\n",
       "      <td>0.0</td>\n",
       "    </tr>\n",
       "    <tr>\n",
       "      <th>4014</th>\n",
       "      <td>AN</td>\n",
       "      <td>2020-02-02</td>\n",
       "      <td>Andaman and Nicobar Islands</td>\n",
       "      <td>0</td>\n",
       "      <td>0</td>\n",
       "      <td>91276115</td>\n",
       "      <td>0.0</td>\n",
       "      <td>0.0</td>\n",
       "    </tr>\n",
       "    <tr>\n",
       "      <th>4015</th>\n",
       "      <td>AN</td>\n",
       "      <td>2020-02-03</td>\n",
       "      <td>Andaman and Nicobar Islands</td>\n",
       "      <td>0</td>\n",
       "      <td>0</td>\n",
       "      <td>91276115</td>\n",
       "      <td>0.0</td>\n",
       "      <td>0.0</td>\n",
       "    </tr>\n",
       "  </tbody>\n",
       "</table>\n",
       "</div>"
      ],
      "text/plain": [
       "     statecode        date                        state delta confirmed  \\\n",
       "4011        AN  2020-01-30  Andaman and Nicobar Islands     0         0   \n",
       "4012        AN  2020-01-31  Andaman and Nicobar Islands     0         0   \n",
       "4013        AN  2020-02-01  Andaman and Nicobar Islands     0         0   \n",
       "4014        AN  2020-02-02  Andaman and Nicobar Islands     0         0   \n",
       "4015        AN  2020-02-03  Andaman and Nicobar Islands     0         0   \n",
       "\n",
       "     population  cases_per_mil  cpm_smoothened  \n",
       "4011   91276115            0.0             0.0  \n",
       "4012   91276115            0.0             0.0  \n",
       "4013   91276115            0.0             0.0  \n",
       "4014   91276115            0.0             0.0  \n",
       "4015   91276115            0.0             0.0  "
      ]
     },
     "execution_count": 166,
     "metadata": {},
     "output_type": "execute_result"
    }
   ],
   "source": [
    "#make moving avg of cases per mil\n",
    "\n",
    "#reseting index and making state as column only\n",
    "df=df.reset_index(drop=True)\n",
    "#sorting it\n",
    "df=df.sort_values(['state','date'])\n",
    "\n",
    "#list to store smoothened numbers\n",
    "ls=[]\n",
    "for state in df['state'].unique():\n",
    "    #gets list of values for unique state in topten\n",
    "    values=list(df['cases_per_mil'][df['state']==state])\n",
    "    #print('state: ', state, 'length', len(values))\n",
    "    for count, v in enumerate(list(values)):\n",
    "        if count<4:\n",
    "            ls.append(0)\n",
    "        else:\n",
    "            #print(values)\n",
    "            newv=(values[count]+values[count-1]+values[count-2]+values[count-3]+values[count-4])/5\n",
    "            ls.append(newv)\n",
    "        \n",
    "    \n",
    "if len(df) == len(ls):\n",
    "    print('We are all good, we go a list same size as df: {}'.format(len(df)))\n",
    "\n",
    "#creating a new column\n",
    "df['cpm_smoothened']=ls\n",
    "#print(df[['state','date','cases_per_mil','cpm_smoothened']].tail(140))\n",
    "df.head(5)"
   ]
  },
  {
   "cell_type": "markdown",
   "metadata": {},
   "source": [
    "### Visualization"
   ]
  },
  {
   "cell_type": "code",
   "execution_count": 167,
   "metadata": {},
   "outputs": [],
   "source": [
    "#making dates index for the chart and creating series\n",
    "df=df.sort_values('date',ascending=True)\n",
    "df=df.set_index(df['date'])"
   ]
  },
  {
   "cell_type": "code",
   "execution_count": 168,
   "metadata": {},
   "outputs": [
    {
     "name": "stdout",
     "output_type": "stream",
     "text": [
      "Max rows: 89, State: Delhi\n",
      "x-axis\n",
      "['Day1', 'Day2', 'Day3', 'Day4', 'Day5', 'Day6', 'Day7', 'Day8', 'Day9', 'Day10', 'Day11', 'Day12', 'Day13', 'Day14', 'Day15', 'Day16', 'Day17', 'Day18', 'Day19', 'Day20', 'Day21', 'Day22', 'Day23', 'Day24', 'Day25', 'Day26', 'Day27', 'Day28', 'Day29', 'Day30', 'Day31', 'Day32', 'Day33', 'Day34', 'Day35', 'Day36', 'Day37', 'Day38', 'Day39', 'Day40', 'Day41', 'Day42', 'Day43', 'Day44', 'Day45', 'Day46', 'Day47', 'Day48', 'Day49', 'Day50', 'Day51', 'Day52', 'Day53', 'Day54', 'Day55', 'Day56', 'Day57', 'Day58', 'Day59', 'Day60', 'Day61', 'Day62', 'Day63', 'Day64', 'Day65', 'Day66', 'Day67', 'Day68', 'Day69', 'Day70', 'Day71', 'Day72', 'Day73', 'Day74', 'Day75', 'Day76', 'Day77', 'Day78', 'Day79', 'Day80', 'Day81', 'Day82', 'Day83', 'Day84', 'Day85', 'Day86', 'Day87', 'Day88', 'Day89']\n",
      "length 89\n"
     ]
    }
   ],
   "source": [
    "#create df with only required states\n",
    "df=df[df.state.isin(top)]\n",
    "\n",
    "#delete all the rows with cpm_smoothened less than 1\n",
    "\n",
    "df=df[df['cpm_smoothened']>=1]\n",
    "#creating x-axis\n",
    "\n",
    "#getting state with max rows\n",
    "mstate=list(df['state'].mode().values)[0]\n",
    "mnumber=len(df[df['state']==list(df['state'].mode().values)[0]])\n",
    "print('Max rows: {}, State: {}'.format(mnumber, mstate))\n",
    "temp=df[df['state']==mstate]\n",
    "x1=[]\n",
    "\n",
    "for count,date in enumerate(list(temp['date'])):\n",
    "    i=i+1\n",
    "    dateobj=datetime.datetime.strptime(date, '%Y-%m-%d').date()\n",
    "    day='Day'+str(count+1)\n",
    "    x1.append(day)\n",
    "    #print(type(date))\n",
    "\n",
    "print('x-axis')\n",
    "print(x1)\n",
    "print('length', len(x1))"
   ]
  },
  {
   "cell_type": "code",
   "execution_count": 169,
   "metadata": {},
   "outputs": [
    {
     "data": {
      "text/html": [
       "<div>\n",
       "<style scoped>\n",
       "    .dataframe tbody tr th:only-of-type {\n",
       "        vertical-align: middle;\n",
       "    }\n",
       "\n",
       "    .dataframe tbody tr th {\n",
       "        vertical-align: top;\n",
       "    }\n",
       "\n",
       "    .dataframe thead th {\n",
       "        text-align: right;\n",
       "    }\n",
       "</style>\n",
       "<table border=\"1\" class=\"dataframe\">\n",
       "  <thead>\n",
       "    <tr style=\"text-align: right;\">\n",
       "      <th></th>\n",
       "      <th>statecode</th>\n",
       "      <th>date</th>\n",
       "      <th>state</th>\n",
       "      <th>delta</th>\n",
       "      <th>confirmed</th>\n",
       "      <th>population</th>\n",
       "      <th>cases_per_mil</th>\n",
       "      <th>cpm_smoothened</th>\n",
       "    </tr>\n",
       "    <tr>\n",
       "      <th>date</th>\n",
       "      <th></th>\n",
       "      <th></th>\n",
       "      <th></th>\n",
       "      <th></th>\n",
       "      <th></th>\n",
       "      <th></th>\n",
       "      <th></th>\n",
       "      <th></th>\n",
       "    </tr>\n",
       "  </thead>\n",
       "  <tbody>\n",
       "    <tr>\n",
       "      <th>2020-04-01</th>\n",
       "      <td>DL</td>\n",
       "      <td>2020-04-01</td>\n",
       "      <td>Delhi</td>\n",
       "      <td>32</td>\n",
       "      <td>152</td>\n",
       "      <td>16787941</td>\n",
       "      <td>1.906130</td>\n",
       "      <td>1.334291</td>\n",
       "    </tr>\n",
       "    <tr>\n",
       "      <th>2020-04-02</th>\n",
       "      <td>DL</td>\n",
       "      <td>2020-04-02</td>\n",
       "      <td>Delhi</td>\n",
       "      <td>141</td>\n",
       "      <td>293</td>\n",
       "      <td>16787941</td>\n",
       "      <td>8.398886</td>\n",
       "      <td>2.906848</td>\n",
       "    </tr>\n",
       "    <tr>\n",
       "      <th>2020-04-03</th>\n",
       "      <td>TN</td>\n",
       "      <td>2020-04-03</td>\n",
       "      <td>Tamil Nadu</td>\n",
       "      <td>102</td>\n",
       "      <td>411</td>\n",
       "      <td>72147030</td>\n",
       "      <td>1.413780</td>\n",
       "      <td>1.000734</td>\n",
       "    </tr>\n",
       "    <tr>\n",
       "      <th>2020-04-03</th>\n",
       "      <td>DL</td>\n",
       "      <td>2020-04-03</td>\n",
       "      <td>Delhi</td>\n",
       "      <td>93</td>\n",
       "      <td>386</td>\n",
       "      <td>16787941</td>\n",
       "      <td>5.539691</td>\n",
       "      <td>3.740780</td>\n",
       "    </tr>\n",
       "    <tr>\n",
       "      <th>2020-04-04</th>\n",
       "      <td>TN</td>\n",
       "      <td>2020-04-04</td>\n",
       "      <td>Tamil Nadu</td>\n",
       "      <td>74</td>\n",
       "      <td>485</td>\n",
       "      <td>72147030</td>\n",
       "      <td>1.025683</td>\n",
       "      <td>1.158745</td>\n",
       "    </tr>\n",
       "  </tbody>\n",
       "</table>\n",
       "</div>"
      ],
      "text/plain": [
       "           statecode        date       state delta confirmed population  \\\n",
       "date                                                                      \n",
       "2020-04-01        DL  2020-04-01       Delhi    32       152   16787941   \n",
       "2020-04-02        DL  2020-04-02       Delhi   141       293   16787941   \n",
       "2020-04-03        TN  2020-04-03  Tamil Nadu   102       411   72147030   \n",
       "2020-04-03        DL  2020-04-03       Delhi    93       386   16787941   \n",
       "2020-04-04        TN  2020-04-04  Tamil Nadu    74       485   72147030   \n",
       "\n",
       "            cases_per_mil  cpm_smoothened  \n",
       "date                                       \n",
       "2020-04-01       1.906130        1.334291  \n",
       "2020-04-02       8.398886        2.906848  \n",
       "2020-04-03       1.413780        1.000734  \n",
       "2020-04-03       5.539691        3.740780  \n",
       "2020-04-04       1.025683        1.158745  "
      ]
     },
     "execution_count": 169,
     "metadata": {},
     "output_type": "execute_result"
    }
   ],
   "source": [
    "df.head(5)"
   ]
  },
  {
   "cell_type": "code",
   "execution_count": 175,
   "metadata": {},
   "outputs": [
    {
     "data": {
      "image/png": "[encoded data removed]",
      "text/plain": [
       "<Figure size 1080x504 with 1 Axes>"
      ]
     },
     "metadata": {
      "needs_background": "light"
     },
     "output_type": "display_data"
    }
   ],
   "source": [
    "#plt.figure(figsize=(40,15))\n",
    "#plt.tick_params(axis='x', colors='#777777', labelsize=50)\n",
    "fig, ax = plt.subplots()\n",
    "plt.box(False)\n",
    "fig.tight_layout()\n",
    "plt.setp(ax.get_xticklabels(), rotation=45, ha=\"right\",\n",
    "             rotation_mode=\"anchor\")\n",
    "#ax.xaxis.set_ticks_position('top')\n",
    "plt.locator_params(axis='x',nbins=32)\n",
    "plt.grid(which='major', axis='y', linestyle='-')\n",
    "ax.xaxis.set_ticks(np.arange(0, len(ls), 4))\n",
    "for state in top:\n",
    "    #print('state',state)\n",
    "    temp=df[df['state'].isin([state])]\n",
    "    #print(temp['state'])\n",
    "    y1 = list(temp['cpm_smoothened'])\n",
    "    try:\n",
    "        plt.plot(x1, y1, label = state)\n",
    "    except:\n",
    "        while len(y1) != mnumber:\n",
    "            y1.append(np.nan)\n",
    "        try:\n",
    "            plt.plot(x1,y1,label=state)\n",
    "        except:\n",
    "            print('state {} not added due to error'.format(state))\n",
    "\n",
    "plt.legend()\n",
    "#plt.tick_params(axis='x', colors='#777777', labelsize=12)\n",
    "#plt.tick_params(axis='y', colors='#777777', labelsize=12)\n",
    "plt.title('Daily cases Per Million since number of cases reached over 1 per million  \\n Top 7 states')\n",
    "plt.xlabel('Days since cases crossed 1 per Million')\n",
    "plt.ylabel('Number of cases reported')\n",
    "plt.text(1, 0, '@hisham2k9', transform=ax.transAxes,size=15, color='#777777', ha='right',\n",
    "            bbox=dict(facecolor='white', alpha=0.8, edgecolor='white'))\n",
    "fig.set_size_inches(15, 7)\n",
    "plt.show()"
   ]
  },
  {
   "cell_type": "code",
   "execution_count": 176,
   "metadata": {},
   "outputs": [],
   "source": [
    "#saving image\n",
    "fig.savefig('cpm.png')"
   ]
  },
  {
   "cell_type": "code",
   "execution_count": null,
   "metadata": {},
   "outputs": [],
   "source": []
  }
 ],
 "metadata": {
  "kernelspec": {
   "display_name": "Python 3",
   "language": "python",
   "name": "python3"
  },
  "language_info": {
   "codemirror_mode": {
    "name": "ipython",
    "version": 3
   },
   "file_extension": ".py",
   "mimetype": "text/x-python",
   "name": "python",
   "nbconvert_exporter": "python",
   "pygments_lexer": "ipython3",
   "version": "3.7.3"
  }
 },
 "nbformat": 4,
 "nbformat_minor": 2
}
